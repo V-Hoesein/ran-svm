{
 "cells": [
  {
   "cell_type": "code",
   "execution_count": 43,
   "metadata": {},
   "outputs": [],
   "source": [
    "import os\n",
    "import joblib\n",
    "import string\n",
    "import re\n",
    "import pandas as pd\n",
    "from sklearn.preprocessing import LabelEncoder\n",
    "from sklearn.model_selection import train_test_split\n",
    "from sklearn.metrics import accuracy_score, f1_score, recall_score, precision_score\n",
    "from sklearn.feature_extraction.text import TfidfVectorizer\n",
    "from nltk.tokenize import word_tokenize\n",
    "from Sastrawi.Stemmer.StemmerFactory import StemmerFactory\n",
    "from Sastrawi.StopWordRemover.StopWordRemoverFactory import StopWordRemoverFactory\n",
    "from nltk.corpus import stopwords\n",
    "from sklearn.svm import SVC\n",
    "\n",
    "dataset_path = os.path.realpath(os.path.join(os.path.dirname(__name__), '..', 'app', 'static', 'uploads', 'dataset.csv'))\n",
    "X_train_path = os.path.realpath(os.path.join(os.path.dirname(__name__), '..', 'app', 'static', 'uploads', 'X_train.pkl'))\n",
    "encoder_path = os.path.realpath(os.path.join(os.path.dirname(__name__), '..', 'app', 'static', 'uploads', 'encoder.pkl'))\n",
    "model_path = os.path.realpath(os.path.join(os.path.dirname(__name__), '..', 'app', 'static', 'uploads', 'model.pkl'))\n",
    "\n",
    "class TextCleaner:\n",
    "    def __init__(self):\n",
    "        print('===== Preprocessing =====')\n",
    "        self.stemmer = StemmerFactory().create_stemmer()\n",
    "        stopword_factory = StopWordRemoverFactory()\n",
    "        self.combined_stopwords = set(stopword_factory.get_stop_words()).union(set(stopwords.words('english')))\n",
    "\n",
    "    def clean_text(self, text):\n",
    "        text = text.translate(str.maketrans('', '', string.punctuation))\n",
    "        text = re.sub(r'\\d+', '', text)\n",
    "        text = re.sub(r'\\s+', ' ', text).strip()\n",
    "        text = re.sub(r'[^a-zA-Z\\s]', '', text)\n",
    "        return text\n",
    "\n",
    "    def preprocess_text(self, text) -> str:\n",
    "        text = self.clean_text(text).lower()\n",
    "        tokens = word_tokenize(text)\n",
    "        tokens = [word for word in tokens if word not in self.combined_stopwords]\n",
    "        stemmed = [self.stemmer.stem(word) for word in tokens]\n",
    "        return ' '.join(stemmed)\n"
   ]
  },
  {
   "cell_type": "code",
   "execution_count": 44,
   "metadata": {},
   "outputs": [],
   "source": [
    "data = pd.read_csv(dataset_path)\n",
    "data_csv = pd.read_csv(dataset_path)\n",
    "documents_sentiment = list(data_csv['label'])\n",
    "\n",
    "try:\n",
    "    vectorizer = joblib.load(X_train_path)\n",
    "    X = vectorizer.transform(data['comment'])\n",
    "except FileNotFoundError:\n",
    "    \n",
    "    text_cleaner = TextCleaner()\n",
    "    cleaned_data = [text_cleaner.preprocess_text(text) for text in data_csv['comment']]\n",
    "    \n",
    "    vectorizer = TfidfVectorizer()\n",
    "    X = vectorizer.fit_transform(cleaned_data)\n",
    "    joblib.dump(vectorizer, X_train_path)\n",
    "    \n",
    "\n",
    "try:\n",
    "    encoder = joblib.load(encoder_path)\n",
    "    y = encoder.transform(data['label'])\n",
    "except FileNotFoundError:\n",
    "    encoder = LabelEncoder()\n",
    "    y_train = encoder.fit_transform(documents_sentiment)\n",
    "    \n",
    "    joblib.dump(encoder, encoder_path)\n",
    "    \n",
    "\n",
    "# Pisahkan data menjadi 80 banding 20 (80:20)\n",
    "X_train, X_test, y_train, y_test = train_test_split(X, y, test_size=0.2, random_state=42)\n",
    "\n",
    "try:\n",
    "    model = joblib.load(model_path)\n",
    "except FileNotFoundError:\n",
    "    model = SVC(kernel='linear')\n",
    "    model.fit(X_train, y_train)\n",
    "    joblib.dump(model, model_path)\n",
    "\n",
    "y_pred = model.predict(X_test)\n",
    "\n",
    "accuracy = accuracy_score(y_test, y_pred)\n",
    "f1 = f1_score(y_test, y_pred, average='weighted')\n",
    "recall = recall_score(y_test, y_pred, average='weighted')\n",
    "precision = precision_score(y_test, y_pred, average='weighted')\n"
   ]
  },
  {
   "cell_type": "code",
   "execution_count": 45,
   "metadata": {},
   "outputs": [
    {
     "name": "stdout",
     "output_type": "stream",
     "text": [
      "Accuracy: 1.0000\n",
      "F1-Score: 1.0000\n",
      "Recall: 1.0000\n",
      "Precision: 1.0000\n",
      "y_pred : [0 1]\n",
      "y_test : [0 1]\n"
     ]
    }
   ],
   "source": [
    "print(f\"Accuracy: {accuracy:.4f}\")\n",
    "print(f\"F1-Score: {f1:.4f}\")\n",
    "print(f\"Recall: {recall:.4f}\")\n",
    "print(f\"Precision: {precision:.4f}\")\n",
    "print(f'y_pred : {y_pred}')\n",
    "print(f'y_test : {y_test}')"
   ]
  }
 ],
 "metadata": {
  "kernelspec": {
   "display_name": ".venv",
   "language": "python",
   "name": "python3"
  },
  "language_info": {
   "codemirror_mode": {
    "name": "ipython",
    "version": 3
   },
   "file_extension": ".py",
   "mimetype": "text/x-python",
   "name": "python",
   "nbconvert_exporter": "python",
   "pygments_lexer": "ipython3",
   "version": "3.12.5"
  }
 },
 "nbformat": 4,
 "nbformat_minor": 2
}
