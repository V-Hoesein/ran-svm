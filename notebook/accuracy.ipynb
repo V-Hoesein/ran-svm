{
 "cells": [
  {
   "cell_type": "code",
   "execution_count": null,
   "metadata": {},
   "outputs": [],
   "source": [
    "import os\n",
    "import pandas as pd\n",
    "\n",
    "dataset_path = os.path.realpath(os.path.join(os.path.dirname(__name__), '..', 'app','static','uploads', 'dataset.csv'))\n",
    "df_comments = pd.read_csv(dataset_path)\n",
    "df_comments.tail()"
   ]
  },
  {
   "cell_type": "code",
   "execution_count": null,
   "metadata": {},
   "outputs": [],
   "source": [
    "# Melihat jumlah data\n",
    "df_comments['label'].value_counts()"
   ]
  },
  {
   "cell_type": "markdown",
   "metadata": {},
   "source": [
    "#### Preprocessing"
   ]
  },
  {
   "cell_type": "code",
   "execution_count": null,
   "metadata": {},
   "outputs": [],
   "source": [
    "import re\n",
    "import string\n",
    "from nltk.tokenize import word_tokenize\n",
    "from Sastrawi.Stemmer.StemmerFactory import StemmerFactory\n",
    "from Sastrawi.StopWordRemover.StopWordRemoverFactory import StopWordRemoverFactory\n",
    "from nltk.corpus import stopwords\n",
    "\n",
    "stemmer = StemmerFactory().create_stemmer()\n",
    "stopword_factory = StopWordRemoverFactory()\n",
    "combined_stopwords = set(stopword_factory.get_stop_words()).union(set(stopwords.words('english')))\n",
    "\n",
    "def clean_text(text):\n",
    "    text = text.translate(str.maketrans('', '', string.punctuation))\n",
    "    text = re.sub(r'\\d+', '', text)\n",
    "    text = re.sub(r'\\s+', ' ', text).strip()\n",
    "    text = re.sub(r'[^a-zA-Z\\s]', '', text)\n",
    "    return text\n",
    "\n",
    "def preprocess_text(text):\n",
    "    text = clean_text(text).lower()\n",
    "    tokens = word_tokenize(text)\n",
    "    tokens = [word for word in tokens if word not in combined_stopwords]\n",
    "    stemmed = [stemmer.stem(word) for word in tokens]\n",
    "    return ' '.join(stemmed)\n",
    "\n",
    "\n",
    "df_comments['preprocess'] = df_comments['comment'].apply(preprocess_text)\n",
    "df_comments"
   ]
  },
  {
   "cell_type": "markdown",
   "metadata": {},
   "source": [
    "#### Visual Polarisasi Kata"
   ]
  },
  {
   "cell_type": "code",
   "execution_count": null,
   "metadata": {},
   "outputs": [],
   "source": [
    "from wordcloud import WordCloud\n",
    "import matplotlib.pyplot as plt\n",
    "\n",
    "# polarisasi positif\n",
    "dataset_negatif = df_comments[df_comments['label'] == 'positif']\n",
    "dataset_negatif_text = ' '.join(word for word in dataset_negatif['preprocess'])\n",
    "wc = WordCloud(colormap='Blues', width=1000, height=1000, mode='RGBA', background_color='white').generate(dataset_negatif_text)\n",
    "plt.figure(figsize=(20,10))\n",
    "plt.imshow(wc, interpolation='bilinear')\n",
    "plt.axis('off')\n",
    "plt.margins(x=0, y=0)\n",
    "plt.show()\n",
    "\n",
    "# polarisasi negatif\n",
    "dataset_negatif = df_comments[df_comments['label'] == 'negatif']\n",
    "dataset_negatif_text = ' '.join(word for word in dataset_negatif['preprocess'])\n",
    "wc = WordCloud(colormap='Reds', width=1000, height=1000, mode='RGBA', background_color='white').generate(dataset_negatif_text)\n",
    "plt.figure(figsize=(20,10))\n",
    "plt.imshow(wc, interpolation='bilinear')\n",
    "plt.axis('off')\n",
    "plt.margins(x=0, y=0)\n",
    "plt.show()"
   ]
  },
  {
   "cell_type": "markdown",
   "metadata": {},
   "source": [
    "#### Bagi dataset menjadi 80% data training dan 20% data testing"
   ]
  },
  {
   "cell_type": "code",
   "execution_count": 26,
   "metadata": {},
   "outputs": [],
   "source": [
    "from sklearn.model_selection import train_test_split\n",
    "\n",
    "X_train, X_test, y_train, y_test = train_test_split(df_comments['preprocess'], df_comments['label'], test_size=0.2, stratify=df_comments['label'], random_state=0)"
   ]
  },
  {
   "cell_type": "code",
   "execution_count": 33,
   "metadata": {},
   "outputs": [
    {
     "name": "stdout",
     "output_type": "stream",
     "text": [
      "Exported 'combined_tfidf_output.csv' with values rounded to 3 decimal places.\n"
     ]
    }
   ],
   "source": [
    "import pandas as pd\n",
    "from sklearn.feature_extraction.text import TfidfVectorizer\n",
    "from collections import Counter\n",
    "\n",
    "# Example preprocess dataframe\n",
    "# df_comments = pd.DataFrame({\n",
    "#     'preprocess': ['example text here', 'another example', 'more text data']\n",
    "# })\n",
    "\n",
    "vectorizer = TfidfVectorizer()\n",
    "X = vectorizer.fit_transform(df_comments['preprocess'])\n",
    "\n",
    "terms = vectorizer.get_feature_names_out()\n",
    "idf_values = vectorizer.idf_\n",
    "\n",
    "# Create DataFrame for TF-IDF\n",
    "tfidf_df = pd.DataFrame(X.toarray().T, index=terms, columns=[f'D{i+1}' for i in range(len(df_comments['preprocess']))])\n",
    "idf_df = pd.DataFrame(idf_values, index=terms, columns=[\"IDF\"])\n",
    "\n",
    "# Function to compute raw TF (counts of terms in document)\n",
    "def compute_raw_tf(doc):\n",
    "    words = doc.split()\n",
    "    count = Counter(words)\n",
    "    return count\n",
    "\n",
    "# Compute raw TF for each document (term count)\n",
    "raw_tf_dicts = [compute_raw_tf(doc) for doc in df_comments['preprocess']]\n",
    "raw_tf_df = pd.DataFrame(raw_tf_dicts, index=[f'D{i+1}' for i in range(len(df_comments['preprocess']))]).T\n",
    "\n",
    "# Compute normalized TF\n",
    "def compute_tf(doc):\n",
    "    words = doc.split()\n",
    "    count = Counter(words)\n",
    "    total_terms = len(words)\n",
    "    tf = {term: count[term] / total_terms for term in count}\n",
    "    return tf\n",
    "\n",
    "# Compute normalized TF for each document\n",
    "tf_dicts = [compute_tf(doc) for doc in df_comments['preprocess']]\n",
    "tf_df = pd.DataFrame(tf_dicts, index=[f'D{i+1}' for i in range(len(df_comments['preprocess']))]).T\n",
    "\n",
    "# Fill NaN values with 0\n",
    "raw_tf_df = raw_tf_df.fillna(0)\n",
    "tf_df = tf_df.fillna(0)\n",
    "idf_df = idf_df.fillna(0)\n",
    "tfidf_df = tfidf_df.fillna(0)\n",
    "\n",
    "# Sum all normalized TF values across all documents (TFNormAll)\n",
    "tf_norm_all = tf_df.sum(axis=1)\n",
    "\n",
    "# Compute Document Frequency (DF) - number of documents where the term appears\n",
    "df_values = (raw_tf_df > 0).sum(axis=1)\n",
    "\n",
    "# Create final DataFrame\n",
    "final_df = pd.DataFrame(index=terms)\n",
    "final_df['Terms'] = terms\n",
    "\n",
    "# Add raw TF for each document (Raw Terms per document)\n",
    "final_df = final_df.join(raw_tf_df.add_prefix('TF'))  # Add raw term counts for each document\n",
    "\n",
    "# Add normalized TF for each document\n",
    "final_df = final_df.join(tf_df.add_prefix('TFNorm'))  # Add normalized TF for each document\n",
    "\n",
    "# Add sum of normalized TFs across all documents\n",
    "final_df['TFNormAll'] = tf_norm_all\n",
    "\n",
    "# Add Document Frequency (DF) column\n",
    "final_df['DF'] = df_values\n",
    "\n",
    "# Add IDF column\n",
    "final_df['IDF'] = idf_df['IDF']\n",
    "\n",
    "# Add TF-IDF for each document\n",
    "final_df = final_df.join(tfidf_df.add_prefix('TFIDF_'))\n",
    "\n",
    "# Round all numeric columns to 3 decimal places\n",
    "final_df = final_df.round(3)\n",
    "\n",
    "# Export the final DataFrame to CSV\n",
    "final_df.to_csv('combined_tfidf_output.csv', index=False)\n",
    "\n",
    "print(\"Exported 'combined_tfidf_output.csv' with values rounded to 3 decimal places.\")\n"
   ]
  },
  {
   "cell_type": "code",
   "execution_count": null,
   "metadata": {},
   "outputs": [],
   "source": [
    "# run once\n",
    "# Vektor Hasil tranformasi term data testing dengan data training\n",
    "X_train = vectorizer.fit_transform(X_train)\n",
    "X_test = vectorizer.transform(X_test)\n",
    "\n",
    "# print(X_train.toarray())\n",
    "# print(X_test.toarray())"
   ]
  },
  {
   "cell_type": "markdown",
   "metadata": {},
   "source": [
    "#### Prediksi Kelas Dataset"
   ]
  },
  {
   "cell_type": "code",
   "execution_count": 34,
   "metadata": {},
   "outputs": [
    {
     "name": "stdout",
     "output_type": "stream",
     "text": [
      "['negatif' 'positif']\n"
     ]
    }
   ],
   "source": [
    "# Tampilkan hasil prediksi data test\n",
    "from sklearn.svm import SVC\n",
    "\n",
    "model = SVC(random_state=0, kernel='rbf')\n",
    "\n",
    "model.fit(X_train, y_train)\n",
    "predict = model.predict(X_test)\n",
    "print(predict)\n"
   ]
  },
  {
   "cell_type": "markdown",
   "metadata": {},
   "source": [
    "#### Hitung Akurasi"
   ]
  },
  {
   "cell_type": "code",
   "execution_count": null,
   "metadata": {},
   "outputs": [],
   "source": [
    "from sklearn.metrics import f1_score, precision_score, recall_score, accuracy_score, confusion_matrix\n",
    "\n",
    "# f1-score\n",
    "print('F1-Score : ', f1_score(y_test, predict, pos_label='positif'))\n",
    "# Accuracy\n",
    "print('Accuracy : ', accuracy_score(y_test, predict))\n",
    "# precision\n",
    "print('Precision : ', precision_score(y_test, predict, pos_label='positif'))\n",
    "# recall\n",
    "print('Recall : ', recall_score(y_test, predict, pos_label='positif'))\n",
    "\n",
    "\n",
    "# confusion matrix\n",
    "tn, fp, fn, tp = confusion_matrix(y_test, predict).ravel()\n",
    "tn, fp, fn, tp\n"
   ]
  }
 ],
 "metadata": {
  "kernelspec": {
   "display_name": ".venv",
   "language": "python",
   "name": "python3"
  },
  "language_info": {
   "codemirror_mode": {
    "name": "ipython",
    "version": 3
   },
   "file_extension": ".py",
   "mimetype": "text/x-python",
   "name": "python",
   "nbconvert_exporter": "python",
   "pygments_lexer": "ipython3",
   "version": "3.12.5"
  }
 },
 "nbformat": 4,
 "nbformat_minor": 2
}
