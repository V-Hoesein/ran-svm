{
 "cells": [
  {
   "cell_type": "code",
   "execution_count": 1,
   "metadata": {},
   "outputs": [],
   "source": [
    "import os\n",
    "import joblib\n",
    "import string\n",
    "import re\n",
    "import pandas as pd\n",
    "from sklearn.preprocessing import LabelEncoder\n",
    "from sklearn.model_selection import train_test_split\n",
    "from sklearn.metrics import accuracy_score, f1_score, recall_score, precision_score\n",
    "from sklearn.feature_extraction.text import TfidfVectorizer\n",
    "from nltk.tokenize import word_tokenize\n",
    "from Sastrawi.Stemmer.StemmerFactory import StemmerFactory\n",
    "from Sastrawi.StopWordRemover.StopWordRemoverFactory import StopWordRemoverFactory\n",
    "from nltk.corpus import stopwords\n",
    "from sklearn.svm import SVC\n",
    "import seaborn as sns\n",
    "import matplotlib.pyplot as plt\n",
    "from sklearn.metrics import confusion_matrix\n",
    "\n",
    "dataset_path = os.path.realpath(os.path.join(os.path.dirname(__name__), '..', 'app', 'static', 'uploads', 'dataset.csv'))\n",
    "X_train_path = os.path.realpath(os.path.join(os.path.dirname(__name__), '..', 'app', 'static', 'uploads', 'X_train.pkl'))\n",
    "encoder_path = os.path.realpath(os.path.join(os.path.dirname(__name__), '..', 'app', 'static', 'uploads', 'encoder.pkl'))\n",
    "model_path = os.path.realpath(os.path.join(os.path.dirname(__name__), '..', 'app', 'static', 'uploads', 'model.pkl'))"
   ]
  },
  {
   "cell_type": "code",
   "execution_count": 2,
   "metadata": {},
   "outputs": [],
   "source": [
    "# Fungsi Untuk preprocessing\n",
    "class TextCleaner:\n",
    "    def __init__(self):\n",
    "        print('===== Preprocessing =====')\n",
    "        self.stemmer = StemmerFactory().create_stemmer()\n",
    "        stopword_factory = StopWordRemoverFactory()\n",
    "        self.combined_stopwords = set(stopword_factory.get_stop_words()).union(set(stopwords.words('english')))\n",
    "\n",
    "    def clean_text(self, text):\n",
    "        text = text.translate(str.maketrans('', '', string.punctuation))\n",
    "        text = re.sub(r'\\d+', '', text)\n",
    "        text = re.sub(r'\\s+', ' ', text).strip()\n",
    "        text = re.sub(r'[^a-zA-Z\\s]', '', text)\n",
    "        return text\n",
    "\n",
    "    def preprocess_text(self, text) -> str:\n",
    "        text = self.clean_text(text).lower()\n",
    "        tokens = word_tokenize(text)\n",
    "        tokens = [word for word in tokens if word not in self.combined_stopwords]\n",
    "        stemmed = [self.stemmer.stem(word) for word in tokens]\n",
    "        return ' '.join(stemmed)"
   ]
  },
  {
   "cell_type": "code",
   "execution_count": 3,
   "metadata": {},
   "outputs": [
    {
     "name": "stderr",
     "output_type": "stream",
     "text": [
      "d:\\programming\\ran-svm\\.venv\\Lib\\site-packages\\sklearn\\base.py:376: InconsistentVersionWarning: Trying to unpickle estimator TfidfTransformer from version 1.5.1 when using version 1.5.2. This might lead to breaking code or invalid results. Use at your own risk. For more info please refer to:\n",
      "https://scikit-learn.org/stable/model_persistence.html#security-maintainability-limitations\n",
      "  warnings.warn(\n",
      "d:\\programming\\ran-svm\\.venv\\Lib\\site-packages\\sklearn\\base.py:376: InconsistentVersionWarning: Trying to unpickle estimator TfidfVectorizer from version 1.5.1 when using version 1.5.2. This might lead to breaking code or invalid results. Use at your own risk. For more info please refer to:\n",
      "https://scikit-learn.org/stable/model_persistence.html#security-maintainability-limitations\n",
      "  warnings.warn(\n",
      "d:\\programming\\ran-svm\\.venv\\Lib\\site-packages\\sklearn\\base.py:376: InconsistentVersionWarning: Trying to unpickle estimator LabelEncoder from version 1.5.1 when using version 1.5.2. This might lead to breaking code or invalid results. Use at your own risk. For more info please refer to:\n",
      "https://scikit-learn.org/stable/model_persistence.html#security-maintainability-limitations\n",
      "  warnings.warn(\n",
      "d:\\programming\\ran-svm\\.venv\\Lib\\site-packages\\sklearn\\base.py:376: InconsistentVersionWarning: Trying to unpickle estimator SVC from version 1.5.1 when using version 1.5.2. This might lead to breaking code or invalid results. Use at your own risk. For more info please refer to:\n",
      "https://scikit-learn.org/stable/model_persistence.html#security-maintainability-limitations\n",
      "  warnings.warn(\n"
     ]
    }
   ],
   "source": [
    "data = pd.read_csv(dataset_path)\n",
    "data_csv = pd.read_csv(dataset_path)\n",
    "documents_sentiment = list(data_csv['label'])\n",
    "\n",
    "try:\n",
    "    vectorizer = joblib.load(X_train_path)\n",
    "    X = vectorizer.transform(data['comment'])\n",
    "except FileNotFoundError:\n",
    "    \n",
    "    text_cleaner = TextCleaner()\n",
    "    cleaned_data = [text_cleaner.preprocess_text(text) for text in data_csv['comment']]\n",
    "    \n",
    "    vectorizer = TfidfVectorizer()\n",
    "    X = vectorizer.fit_transform(cleaned_data)\n",
    "    joblib.dump(vectorizer, X_train_path)\n",
    "    \n",
    "\n",
    "try:\n",
    "    encoder = joblib.load(encoder_path)\n",
    "    y = encoder.transform(data['label'])\n",
    "except FileNotFoundError:\n",
    "    encoder = LabelEncoder()\n",
    "    y_train = encoder.fit_transform(documents_sentiment)\n",
    "    \n",
    "    joblib.dump(encoder, encoder_path)\n",
    "    \n",
    "\n",
    "# Pisahkan data menjadi 80 banding 20 (80:20)\n",
    "X_train, X_test, y_train, y_test = train_test_split(X, y, test_size=0.2, random_state=42)\n",
    "\n",
    "try:\n",
    "    model = joblib.load(model_path)\n",
    "except FileNotFoundError:\n",
    "    model = SVC(kernel='linear')\n",
    "    model.fit(X_train, y_train)\n",
    "    joblib.dump(model, model_path)\n",
    "\n",
    "y_pred = model.predict(X_test)\n",
    "\n",
    "accuracy = accuracy_score(y_test, y_pred)\n",
    "f1 = f1_score(y_test, y_pred, average='weighted')\n",
    "recall = recall_score(y_test, y_pred, average='weighted')\n",
    "precision = precision_score(y_test, y_pred, average='weighted')\n",
    "misclassification_count = sum(y_test != y_pred)\n",
    "misclassification_rate = misclassification_count / len(y_test) * 100\n",
    "\n",
    "# Perhitungan confusion matrix\n",
    "conf_matrix = confusion_matrix(y_test, y_pred)"
   ]
  },
  {
   "cell_type": "markdown",
   "metadata": {},
   "source": [
    "Hasil Perhitungan Akurasi"
   ]
  },
  {
   "cell_type": "code",
   "execution_count": 4,
   "metadata": {},
   "outputs": [
    {
     "name": "stdout",
     "output_type": "stream",
     "text": [
      "Accuracy: 0.9700\n",
      "F1-Score: 0.9700\n",
      "Recall: 0.9700\n",
      "Precision: 0.9702\n",
      "Misclassification Count: 6\n",
      "Misclassification Rate: 3.00%\n"
     ]
    },
    {
     "data": {
      "image/png": "[encoded data removed]",
      "text/plain": [
       "<Figure size 800x600 with 2 Axes>"
      ]
     },
     "metadata": {},
     "output_type": "display_data"
    }
   ],
   "source": [
    "print(f\"Accuracy: {accuracy:.4f}\")\n",
    "print(f\"F1-Score: {f1:.4f}\")\n",
    "print(f\"Recall: {recall:.4f}\")\n",
    "print(f\"Precision: {precision:.4f}\")\n",
    "print(\"Misclassification Count:\", misclassification_count)\n",
    "print(\"Misclassification Rate: {:.2f}%\".format(misclassification_rate))\n",
    "\n",
    "# Visualisasi confusion matrix\n",
    "plt.figure(figsize=(8, 6))\n",
    "sns.heatmap(conf_matrix, annot=True, fmt='d', cmap='Blues', xticklabels=encoder.classes_, yticklabels=encoder.classes_)\n",
    "plt.xlabel('Predicted Labels')\n",
    "plt.ylabel('True Labels')\n",
    "plt.title('Confusion Matrix')\n",
    "plt.show()"
   ]
  }
 ],
 "metadata": {
  "kernelspec": {
   "display_name": ".venv",
   "language": "python",
   "name": "python3"
  },
  "language_info": {
   "codemirror_mode": {
    "name": "ipython",
    "version": 3
   },
   "file_extension": ".py",
   "mimetype": "text/x-python",
   "name": "python",
   "nbconvert_exporter": "python",
   "pygments_lexer": "ipython3",
   "version": "3.13.0"
  }
 },
 "nbformat": 4,
 "nbformat_minor": 2
}
