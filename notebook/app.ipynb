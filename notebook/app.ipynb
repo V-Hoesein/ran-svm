{
 "cells": [
  {
   "cell_type": "code",
   "execution_count": 1,
   "metadata": {},
   "outputs": [],
   "source": [
    "import os\n",
    "import pandas as pd\n",
    "\n",
    "dataset_path = os.path.realpath(os.path.join(os.path.dirname(__name__), '..', 'dataset-50.csv'))"
   ]
  },
  {
   "cell_type": "code",
   "execution_count": null,
   "metadata": {},
   "outputs": [],
   "source": [
    "df_comments = pd.read_csv(dataset_path)\n",
    "df_comments.tail()"
   ]
  },
  {
   "cell_type": "code",
   "execution_count": null,
   "metadata": {},
   "outputs": [],
   "source": [
    "df_comments['label'].value_counts()"
   ]
  },
  {
   "cell_type": "markdown",
   "metadata": {},
   "source": [
    "## Lakukan Preprocessing"
   ]
  },
  {
   "cell_type": "code",
   "execution_count": 4,
   "metadata": {},
   "outputs": [],
   "source": [
    "import re\n",
    "import string\n",
    "from nltk.tokenize import word_tokenize\n",
    "from Sastrawi.Stemmer.StemmerFactory import StemmerFactory\n",
    "from Sastrawi.StopWordRemover.StopWordRemoverFactory import StopWordRemoverFactory\n",
    "from nltk.corpus import stopwords\n",
    "\n",
    "stemmer = StemmerFactory().create_stemmer()\n",
    "stopword_factory = StopWordRemoverFactory()\n",
    "combined_stopwords = set(stopword_factory.get_stop_words()).union(set(stopwords.words('english')))\n",
    "\n",
    "def clean_text(text):\n",
    "    text = text.translate(str.maketrans('', '', string.punctuation))\n",
    "    text = re.sub(r'\\d+', '', text)\n",
    "    text = re.sub(r'\\s+', ' ', text).strip()\n",
    "    text = re.sub(r'[^a-zA-Z\\s]', '', text)\n",
    "    return text\n",
    "\n",
    "def preprocess_text(text):\n",
    "    text = clean_text(text).lower()\n",
    "    tokens = word_tokenize(text)\n",
    "    tokens = [word for word in tokens if word not in combined_stopwords]\n",
    "    stemmed = [stemmer.stem(word) for word in tokens]\n",
    "    return ' '.join(stemmed)\n",
    "\n",
    "\n",
    "df_comments['preprocess'] = df_comments['comment'].apply(preprocess_text)"
   ]
  },
  {
   "cell_type": "markdown",
   "metadata": {},
   "source": [
    "## POLARISASI KATA"
   ]
  },
  {
   "cell_type": "code",
   "execution_count": null,
   "metadata": {},
   "outputs": [],
   "source": [
    "from wordcloud import WordCloud\n",
    "import matplotlib.pyplot as plt\n",
    "\n",
    "# polarisasi positif\n",
    "dataset_negatif = df_comments[df_comments['label'] == 'positif']\n",
    "dataset_negatif_text = ' '.join(word for word in dataset_negatif['preprocess'])\n",
    "wc = WordCloud(colormap='Blues', width=1000, height=1000, mode='RGBA', background_color='white').generate(dataset_negatif_text)\n",
    "plt.figure(figsize=(20,10))\n",
    "plt.imshow(wc, interpolation='bilinear')\n",
    "plt.axis('off')\n",
    "plt.margins(x=0, y=0)\n",
    "# plt.show()\n",
    "\n",
    "# polarisasi negatif\n",
    "dataset_negatif = df_comments[df_comments['label'] == 'negatif']\n",
    "dataset_negatif_text = ' '.join(word for word in dataset_negatif['preprocess'])\n",
    "wc = WordCloud(colormap='Reds', width=1000, height=1000, mode='RGBA', background_color='white').generate(dataset_negatif_text)\n",
    "plt.figure(figsize=(20,10))\n",
    "plt.imshow(wc, interpolation='bilinear')\n",
    "plt.axis('off')\n",
    "plt.margins(x=0, y=0)\n",
    "# plt.show()"
   ]
  },
  {
   "cell_type": "code",
   "execution_count": 6,
   "metadata": {},
   "outputs": [],
   "source": [
    "from sklearn.model_selection import train_test_split\n",
    "\n",
    "X_train, X_test, y_train, y_test = train_test_split(df_comments['preprocess'], df_comments['label'], test_size=0.2, stratify=df_comments['label'], random_state=0)"
   ]
  },
  {
   "cell_type": "code",
   "execution_count": null,
   "metadata": {},
   "outputs": [],
   "source": [
    "from sklearn.feature_extraction.text import TfidfVectorizer\n",
    "\n",
    "vectorizer = TfidfVectorizer()\n",
    "\n",
    "corpus = [\n",
    "    'pusing satu kali',\n",
    "    'pusing dua kali',\n",
    "    'pusing tiga kali',\n",
    "    'pusing lagi',\n",
    "]\n",
    "\n",
    "X = vectorizer.fit_transform(corpus)\n",
    "# X.toarray()\n",
    "X.todense()\n",
    "# vectorizer.get_feature_names_out()\n",
    "\n",
    "print(X)\n",
    "\n",
    "df = pd.DataFrame(X.toarray().T, index=vectorizer.get_feature_names_out(), columns=[f'D{i+1}' for i in range(len(corpus))])\n",
    "df"
   ]
  },
  {
   "cell_type": "code",
   "execution_count": 8,
   "metadata": {},
   "outputs": [],
   "source": [
    "import pandas as pd\n",
    "from sklearn.feature_extraction.text import TfidfVectorizer\n",
    "from collections import Counter\n",
    "\n",
    "# Corpus data\n",
    "corpus = [\n",
    "    'pusing satu kali',\n",
    "    'pusing dua kali',\n",
    "    'pusing tiga kali',\n",
    "    'pusing lagi',\n",
    "]\n",
    "\n",
    "# Initialize vectorizer\n",
    "vectorizer = TfidfVectorizer()\n",
    "\n",
    "# Fit and transform corpus to get TF-IDF matrix\n",
    "X = vectorizer.fit_transform(corpus)\n",
    "\n",
    "# Get feature names (terms)\n",
    "terms = vectorizer.get_feature_names_out()\n",
    "\n",
    "# Get IDF values\n",
    "idf_values = vectorizer.idf_\n",
    "\n",
    "# Create DataFrame for TF-IDF values\n",
    "tfidf_df = pd.DataFrame(X.toarray().T, index=terms, columns=[f'D{i+1}' for i in range(len(corpus))])\n",
    "\n",
    "# Create DataFrame for IDF values\n",
    "idf_df = pd.DataFrame(idf_values, index=terms, columns=[\"IDF\"])\n",
    "\n",
    "# Calculate TF manually\n",
    "def compute_tf(doc):\n",
    "    # Tokenize and count term occurrences\n",
    "    words = doc.split()\n",
    "    count = Counter(words)\n",
    "    total_terms = len(words)\n",
    "    # Compute TF\n",
    "    tf = {term: count[term] / total_terms for term in count}\n",
    "    return tf\n",
    "\n",
    "# Compute TF for each document\n",
    "tf_dicts = [compute_tf(doc) for doc in corpus]\n",
    "tf_df = pd.DataFrame(tf_dicts, index=[f'D{i+1}' for i in range(len(corpus))]).T\n",
    "\n",
    "# Fill NaN values with 0\n",
    "# tf_df = tf_df.fillna(0)\n",
    "# idf_df = idf_df.fillna(0)\n",
    "# tfidf_df = tfidf_df.fillna(0)\n",
    "\n",
    "# # Display DataFrames\n",
    "# print(\"Term Frequency (TF):\")\n",
    "# print(tf_df)\n",
    "# print(\"\\nInverse Document Frequency (IDF):\")\n",
    "# print(idf_df)\n",
    "# print(\"\\nTF-IDF Matrix:\")\n",
    "# print(tfidf_df)\n"
   ]
  },
  {
   "cell_type": "code",
   "execution_count": 9,
   "metadata": {},
   "outputs": [],
   "source": [
    "X_train = vectorizer.fit_transform(X_train)\n",
    "X_test = vectorizer.transform(X_test)\n",
    "\n",
    "# print(X_train)\n",
    "# print(X_test)"
   ]
  },
  {
   "cell_type": "code",
   "execution_count": null,
   "metadata": {},
   "outputs": [],
   "source": [
    "from sklearn.svm import SVC\n",
    "\n",
    "model = SVC(random_state=0, kernel='rbf')\n",
    "\n",
    "model.fit(X_train, y_train)\n",
    "predict = model.predict(X_test)\n",
    "print(predict)\n"
   ]
  },
  {
   "cell_type": "code",
   "execution_count": null,
   "metadata": {},
   "outputs": [],
   "source": [
    "from sklearn.metrics import classification_report\n",
    "\n",
    "y_predict = model.predict(X_test)\n",
    "print(classification_report(y_test, y_predict))"
   ]
  },
  {
   "cell_type": "code",
   "execution_count": null,
   "metadata": {},
   "outputs": [],
   "source": [
    "from sklearn.metrics import f1_score, precision_score, recall_score, accuracy_score, confusion_matrix\n",
    "\n",
    "# f1-score\n",
    "print('F1-Score : ', f1_score(y_test, predict, pos_label='positif'))\n",
    "# Accuracy\n",
    "print('Accuracy : ', accuracy_score(y_test, predict))\n",
    "# precision\n",
    "print('Precision : ', precision_score(y_test, predict, pos_label='positif'))\n",
    "# recall\n",
    "print('Recall : ', recall_score(y_test, predict, pos_label='positif'))\n",
    "\n",
    "\n",
    "# confusion matrix\n",
    "tn, fp, fn, tp = confusion_matrix(y_test, predict).ravel()\n",
    "tn, fp, fn, tp\n"
   ]
  },
  {
   "cell_type": "code",
   "execution_count": 13,
   "metadata": {},
   "outputs": [],
   "source": [
    "def cleansing(data):\n",
    "    # lower text\n",
    "    data = data.lower()\n",
    "    # remove punctuation\n",
    "    remove = string.punctuation\n",
    "    translator = str.maketrans (remove, ' '*len(remove))\n",
    "    data = data.translate (translator)\n",
    "    # remove ASCII dan unicode\n",
    "    data = data.encode('ascii', 'ignore').decode('utf-8')\n",
    "    data = re.sub(r'[^\\x00-\\x7f]',r'', data)\n",
    "    # remove newline\n",
    "    data = data.replace('\\n', '')\n",
    "\n",
    "    return data\n",
    "\n",
    "def preprocess_data(data):\n",
    "    # cleansing data\n",
    "    data = cleansing(data)\n",
    "    # remove stopwords\n",
    "    factory = StopWordRemoverFactory()\n",
    "    stopword = factory.create_stop_word_remover()\n",
    "    data = stopword.remove(data)\n",
    "    # stemming\n",
    "    factory = StemmerFactory()\n",
    "    stemmer = factory.create_stemmer()\n",
    "    data = stemmer.stem(data)\n",
    "    # count vectorizer\n",
    "    data = vectorizer.transform([data])\n",
    "    return data"
   ]
  },
  {
   "cell_type": "code",
   "execution_count": null,
   "metadata": {},
   "outputs": [],
   "source": [
    "model.predict(preprocess_data('jelek banget kulit kering dan beruntusan, pakek skincare ada rasa gatal dikit'))"
   ]
  }
 ],
 "metadata": {
  "kernelspec": {
   "display_name": ".venv",
   "language": "python",
   "name": "python3"
  },
  "language_info": {
   "codemirror_mode": {
    "name": "ipython",
    "version": 3
   },
   "file_extension": ".py",
   "mimetype": "text/x-python",
   "name": "python",
   "nbconvert_exporter": "python",
   "pygments_lexer": "ipython3",
   "version": "3.12.5"
  }
 },
 "nbformat": 4,
 "nbformat_minor": 2
}
