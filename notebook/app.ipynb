{
 "cells": [
  {
   "cell_type": "code",
   "execution_count": null,
   "metadata": {},
   "outputs": [],
   "source": [
    "import os\n",
    "import pandas as pd\n",
    "\n",
    "dataset_path = os.path.realpath(os.path.join(os.path.dirname(__name__), '..', 'dataset-10.csv'))"
   ]
  },
  {
   "cell_type": "code",
   "execution_count": null,
   "metadata": {},
   "outputs": [],
   "source": [
    "df_comments = pd.read_csv(dataset_path)\n",
    "df_comments.tail()"
   ]
  },
  {
   "cell_type": "code",
   "execution_count": null,
   "metadata": {},
   "outputs": [],
   "source": [
    "df_comments['label'].value_counts()"
   ]
  },
  {
   "cell_type": "markdown",
   "metadata": {},
   "source": [
    "## Lakukan Preprocessing"
   ]
  },
  {
   "cell_type": "code",
   "execution_count": null,
   "metadata": {},
   "outputs": [],
   "source": [
    "import re\n",
    "import string\n",
    "from nltk.tokenize import word_tokenize\n",
    "from Sastrawi.Stemmer.StemmerFactory import StemmerFactory\n",
    "from Sastrawi.StopWordRemover.StopWordRemoverFactory import StopWordRemoverFactory\n",
    "from nltk.corpus import stopwords\n",
    "\n",
    "stemmer = StemmerFactory().create_stemmer()\n",
    "stopword_factory = StopWordRemoverFactory()\n",
    "combined_stopwords = set(stopword_factory.get_stop_words()).union(set(stopwords.words('english')))\n",
    "\n",
    "def clean_text(text):\n",
    "    text = text.translate(str.maketrans('', '', string.punctuation))\n",
    "    text = re.sub(r'\\d+', '', text)\n",
    "    text = re.sub(r'\\s+', ' ', text).strip()\n",
    "    text = re.sub(r'[^a-zA-Z\\s]', '', text)\n",
    "    return text\n",
    "\n",
    "def preprocess_text(text):\n",
    "    text = clean_text(text).lower()\n",
    "    tokens = word_tokenize(text)\n",
    "    tokens = [word for word in tokens if word not in combined_stopwords]\n",
    "    stemmed = [stemmer.stem(word) for word in tokens]\n",
    "    return ' '.join(stemmed)\n",
    "\n",
    "\n",
    "df_comments['preprocess'] = df_comments['comment'].apply(preprocess_text)"
   ]
  },
  {
   "cell_type": "markdown",
   "metadata": {},
   "source": [
    "## POLARISASI KATA"
   ]
  },
  {
   "cell_type": "code",
   "execution_count": null,
   "metadata": {},
   "outputs": [],
   "source": [
    "from wordcloud import WordCloud\n",
    "import matplotlib.pyplot as plt\n",
    "\n",
    "# polarisasi positif\n",
    "dataset_negatif = df_comments[df_comments['label'] == 'positif']\n",
    "dataset_negatif_text = ' '.join(word for word in dataset_negatif['preprocess'])\n",
    "wc = WordCloud(colormap='Blues', width=1000, height=1000, mode='RGBA', background_color='white').generate(dataset_negatif_text)\n",
    "plt.figure(figsize=(20,10))\n",
    "plt.imshow(wc, interpolation='bilinear')\n",
    "plt.axis('off')\n",
    "plt.margins(x=0, y=0)\n",
    "plt.show()\n",
    "\n",
    "# polarisasi negatif\n",
    "dataset_negatif = df_comments[df_comments['label'] == 'negatif']\n",
    "dataset_negatif_text = ' '.join(word for word in dataset_negatif['preprocess'])\n",
    "wc = WordCloud(colormap='Reds', width=1000, height=1000, mode='RGBA', background_color='white').generate(dataset_negatif_text)\n",
    "plt.figure(figsize=(20,10))\n",
    "plt.imshow(wc, interpolation='bilinear')\n",
    "plt.axis('off')\n",
    "plt.margins(x=0, y=0)\n",
    "plt.show()"
   ]
  },
  {
   "cell_type": "code",
   "execution_count": null,
   "metadata": {},
   "outputs": [],
   "source": [
    "from sklearn.model_selection import train_test_split\n",
    "\n",
    "X_train, X_test, y_train, y_test = train_test_split(df_comments['preprocess'], df_comments['label'], test_size=0.2, stratify=df_comments['label'], random_state=20)"
   ]
  },
  {
   "cell_type": "code",
   "execution_count": null,
   "metadata": {},
   "outputs": [],
   "source": [
    "from sklearn.feature_extraction.text import TfidfVectorizer\n",
    "\n",
    "vectorizer = TfidfVectorizer()\n",
    "\n",
    "corpus = [\n",
    "    'pusing satu kali',\n",
    "    'pusing dua kali',\n",
    "    'pusing tiga kali',\n",
    "    'pusing lagi',\n",
    "]\n",
    "\n",
    "# X = vectorizer.fit_transform(corpus)\n",
    "# X.toarray()"
   ]
  },
  {
   "cell_type": "code",
   "execution_count": null,
   "metadata": {},
   "outputs": [],
   "source": [
    "X_train = vectorizer.fit_transform(X_train)\n",
    "X_test = vectorizer.transform(X_test)\n",
    "\n",
    "print(X_train.shape)\n",
    "print(X_test.shape)"
   ]
  },
  {
   "cell_type": "code",
   "execution_count": null,
   "metadata": {},
   "outputs": [],
   "source": [
    "from sklearn import svm\n",
    "from sklearn.model_selection import cross_val_score\n",
    "\n",
    "clf = svm.SVC(kernel='linear')\n",
    "\n",
    "clf.fit(X_train, y_train)\n",
    "predict = clf.predict(X_test)\n",
    "print(predict)\n"
   ]
  },
  {
   "cell_type": "code",
   "execution_count": null,
   "metadata": {},
   "outputs": [],
   "source": [
    "from sklearn.metrics import f1_score, precision_score, recall_score, accuracy_score, confusion_matrix\n",
    "\n",
    "# f1-score\n",
    "print('F1-Score : ', f1_score(y_test, predict, pos_label='positif'))\n",
    "# Accuracy\n",
    "print('Accuracy : ', accuracy_score(y_test, predict))\n",
    "# precision\n",
    "print('Precision : ', precision_score(y_test, predict, pos_label='positif'))\n",
    "# recall\n",
    "print('Recall : ', recall_score(y_test, predict, pos_label='positif'))\n",
    "\n",
    "\n",
    "# confusion matrix\n",
    "tn, fp, fn, tp = confusion_matrix(y_test, predict).ravel()\n",
    "tn, fp, fn, tp\n"
   ]
  },
  {
   "cell_type": "code",
   "execution_count": null,
   "metadata": {},
   "outputs": [],
   "source": [
    "def cleansing(data):\n",
    "    # lower text\n",
    "    data = data.lower()\n",
    "    # remove punctuation\n",
    "    remove = string.punctuation\n",
    "    translator = str.maketrans (remove, ' '*len(remove))\n",
    "    data = data.translate (translator)\n",
    "    # remove ASCII dan unicode\n",
    "    data = data.encode('ascii', 'ignore').decode('utf-8')\n",
    "    data = re.sub(r'[^\\x00-\\x7f]',r'', data)\n",
    "    # remove newline\n",
    "    data = data.replace('\\n', '')\n",
    "\n",
    "    return data\n",
    "\n",
    "def preprocess_data(data):\n",
    "    # cleansing data\n",
    "    data = cleansing(data)\n",
    "    # remove stopwords\n",
    "    factory = StopWordRemoverFactory()\n",
    "    stopword = factory.create_stop_word_remover()\n",
    "    data = stopword.remove(data)\n",
    "    # stemming\n",
    "    factory = StemmerFactory()\n",
    "    stemmer = factory.create_stemmer()\n",
    "    data = stemmer.stem(data)\n",
    "    # count vectorizer\n",
    "    data = vectorizer.transform([data])\n",
    "    return data"
   ]
  },
  {
   "cell_type": "code",
   "execution_count": 242,
   "metadata": {},
   "outputs": [
    {
     "data": {
      "text/plain": [
       "array(['positif'], dtype=object)"
      ]
     },
     "execution_count": 242,
     "metadata": {},
     "output_type": "execute_result"
    }
   ],
   "source": [
    "clf.predict(preprocess_data(''))"
   ]
  }
 ],
 "metadata": {
  "kernelspec": {
   "display_name": ".venv",
   "language": "python",
   "name": "python3"
  },
  "language_info": {
   "codemirror_mode": {
    "name": "ipython",
    "version": 3
   },
   "file_extension": ".py",
   "mimetype": "text/x-python",
   "name": "python",
   "nbconvert_exporter": "python",
   "pygments_lexer": "ipython3",
   "version": "3.12.5"
  }
 },
 "nbformat": 4,
 "nbformat_minor": 2
}
